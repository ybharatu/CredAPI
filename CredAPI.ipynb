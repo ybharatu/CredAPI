{
 "cells": [
  {
   "cell_type": "markdown",
   "metadata": {},
   "source": [
    "# CredAPI\n",
    "## An API Authentication Library\n",
    "---"
   ]
  },
  {
   "cell_type": "markdown",
   "metadata": {},
   "source": [
    "### Description: "
   ]
  },
  {
   "cell_type": "markdown",
   "metadata": {},
   "source": [
    "This goal of this library is to simplify api authenticaion and to create a universal wrapper for popular APIs."
   ]
  },
  {
   "cell_type": "markdown",
   "metadata": {},
   "source": [
    "### Usage:\n",
    "Create a mycredentials.py file and make sure to add that to the .gitignore. In this file enter all required credentials. For example:\n",
    "```\n",
    "reddit_cred = credential(name=\"Reddit\", username=\"\", password=\"\", client_id=\"\", client_secret=\"\", user_agent=\"\")\n",
    "```\n",
    "\n",
    "This library can be used as a submodule. The following commands must be run in the desired repo:\n",
    "```\n",
    "git submodule add git@github.com:ybharatu/CredAPI.git\n",
    "git submodule update --init --recursive\n",
    "```"
   ]
  },
  {
   "cell_type": "markdown",
   "metadata": {},
   "source": [
    "### Functions:\n",
    "    - get_cred_dict: Returns required credentials in dictionary form\n"
   ]
  },
  {
   "cell_type": "markdown",
   "metadata": {},
   "source": [
    "### Supported APIs:\n",
    "    - Reddit"
   ]
  },
  {
   "cell_type": "markdown",
   "metadata": {},
   "source": [
    "### Dependencies:\n",
    "    - unittest\n",
    "    - praw"
   ]
  }
 ],
 "metadata": {
  "kernelspec": {
   "display_name": "Python 3",
   "language": "python",
   "name": "python3"
  },
  "language_info": {
   "codemirror_mode": {
    "name": "ipython",
    "version": 3
   },
   "file_extension": ".py",
   "mimetype": "text/x-python",
   "name": "python",
   "nbconvert_exporter": "python",
   "pygments_lexer": "ipython3",
   "version": "3.7.4"
  }
 },
 "nbformat": 4,
 "nbformat_minor": 2
}
